{
  "nbformat": 4,
  "nbformat_minor": 0,
  "metadata": {
    "colab": {
      "name": "Modeling.ipynb",
      "provenance": [],
      "machine_shape": "hm",
      "mount_file_id": "1CR2Mvmnk_aJok8XqB-V45FABtyvr1Pc4",
      "authorship_tag": "ABX9TyNYlh8hxDJLJsNU6LXeTzJ6",
      "include_colab_link": true
    },
    "kernelspec": {
      "name": "python3",
      "display_name": "Python 3"
    }
  },
  "cells": [
    {
      "cell_type": "markdown",
      "metadata": {
        "id": "view-in-github",
        "colab_type": "text"
      },
      "source": [
        "<a href=\"https://colab.research.google.com/github/Maram-Elsayed/Airbnb-New-User-Bookings-Kaggle/blob/master/Modeling.ipynb\" target=\"_parent\"><img src=\"https://colab.research.google.com/assets/colab-badge.svg\" alt=\"Open In Colab\"/></a>"
      ]
    },
    {
      "cell_type": "code",
      "metadata": {
        "id": "mHk-PYKS7Xri",
        "colab_type": "code",
        "colab": {}
      },
      "source": [
        "import numpy as np\n",
        "import pandas as pd\n",
        "import seaborn as sns\n",
        "from scipy import stats\n",
        "import matplotlib.pyplot as plt\n",
        "\n",
        "import statsmodels.api as sm\n",
        "from statsmodels.stats import diagnostic as diag\n",
        "from statsmodels.stats.outliers_influence import variance_inflation_factor\n",
        "\n",
        "from sklearn.preprocessing import LabelEncoder, StandardScaler\n",
        "from sklearn.model_selection import train_test_split\n",
        "from sklearn.metrics import mean_squared_error, r2_score, mean_absolute_error\n",
        "\n",
        "from sklearn import preprocessing\n",
        "from sklearn.model_selection import KFold\n",
        "from sklearn import tree\n",
        "from sklearn.preprocessing import LabelBinarizer\n",
        "from sklearn.metrics import make_scorer"
      ],
      "execution_count": 0,
      "outputs": []
    },
    {
      "cell_type": "code",
      "metadata": {
        "id": "-oTKoMYK7Zpo",
        "colab_type": "code",
        "outputId": "6c5a10a8-af25-4450-ee78-a6fca8a9d24e",
        "colab": {
          "base_uri": "https://localhost:8080/",
          "height": 204
        }
      },
      "source": [
        "# Read Preprocessed data\n",
        "train= pd.read_csv('drive/My Drive/airbnb/train_scaled_2.csv')\n",
        "test= pd.read_csv('drive/My Drive/airbnb/test_scaled_2.csv')\n",
        "train_labels = train['country_destination']\n",
        "train = train.drop(['country_destination','id'], axis=1)\n",
        "test_id=test['id']\n",
        "test = test.drop('id', axis=1)\n",
        "\n",
        "# Set traget label to numeric\n",
        "le_label = LabelEncoder()\n",
        "labels=le_label.fit_transform(train_labels)\n",
        "train_labels=pd.DataFrame({'Column1': train_labels, 'country_destination': labels})\n",
        "train_labels=train_labels.drop('Column1',axis=1)\n",
        "train_labels.head()\n",
        "\n"
      ],
      "execution_count": 4,
      "outputs": [
        {
          "output_type": "execute_result",
          "data": {
            "text/html": [
              "<div>\n",
              "<style scoped>\n",
              "    .dataframe tbody tr th:only-of-type {\n",
              "        vertical-align: middle;\n",
              "    }\n",
              "\n",
              "    .dataframe tbody tr th {\n",
              "        vertical-align: top;\n",
              "    }\n",
              "\n",
              "    .dataframe thead th {\n",
              "        text-align: right;\n",
              "    }\n",
              "</style>\n",
              "<table border=\"1\" class=\"dataframe\">\n",
              "  <thead>\n",
              "    <tr style=\"text-align: right;\">\n",
              "      <th></th>\n",
              "      <th>country_destination</th>\n",
              "    </tr>\n",
              "  </thead>\n",
              "  <tbody>\n",
              "    <tr>\n",
              "      <th>0</th>\n",
              "      <td>7</td>\n",
              "    </tr>\n",
              "    <tr>\n",
              "      <th>1</th>\n",
              "      <td>7</td>\n",
              "    </tr>\n",
              "    <tr>\n",
              "      <th>2</th>\n",
              "      <td>10</td>\n",
              "    </tr>\n",
              "    <tr>\n",
              "      <th>3</th>\n",
              "      <td>11</td>\n",
              "    </tr>\n",
              "    <tr>\n",
              "      <th>4</th>\n",
              "      <td>10</td>\n",
              "    </tr>\n",
              "  </tbody>\n",
              "</table>\n",
              "</div>"
            ],
            "text/plain": [
              "   country_destination\n",
              "0                    7\n",
              "1                    7\n",
              "2                   10\n",
              "3                   11\n",
              "4                   10"
            ]
          },
          "metadata": {
            "tags": []
          },
          "execution_count": 4
        }
      ]
    },
    {
      "cell_type": "markdown",
      "metadata": {
        "id": "rq30WAv8PdHg",
        "colab_type": "text"
      },
      "source": [
        "**Creating the NDCG Scorer**"
      ]
    },
    {
      "cell_type": "code",
      "metadata": {
        "id": "JLEkhgBGOfvg",
        "colab_type": "code",
        "colab": {}
      },
      "source": [
        "def folds_to_split(data,targets,train,test):\n",
        "    data_tr = pd.DataFrame(data).iloc[train]\n",
        "    data_te = pd.DataFrame(data).iloc[test]\n",
        "    labels_tr = pd.DataFrame(targets).iloc[train]\n",
        "    labels_te = pd.DataFrame(targets).iloc[test]\n",
        "    return [data_tr, data_te, labels_tr, labels_te]\n",
        "\n",
        "# Reference Kaggle\n",
        "def dcg_score(y_true, y_score, k=5):\n",
        "    order = np.argsort(y_score)[::-1]\n",
        "    y_true = np.take(y_true, order[:k])\n",
        "\n",
        "    gain = 2 ** y_true - 1\n",
        "\n",
        "    discounts = np.log2(np.arange(len(y_true)) + 2)\n",
        "    return np.sum(gain / discounts)\n",
        "\n",
        "#def ndcg_score(ground_truth, predictions, k=5):\n",
        "def ndcg_score(te_labels, predict, k):\n",
        "    lb = LabelBinarizer()\n",
        "    lb.fit(range(len(predict) + 1))\n",
        "    T = lb.transform(te_labels)\n",
        "    scores = []\n",
        "    # Iterate over each y_true and compute the DCG score\n",
        "    for y_true, y_score in zip(T, predict):\n",
        "        actual = dcg_score(y_true, y_score, k)\n",
        "        best = dcg_score(y_true, y_true, k)  \n",
        "        score = float(actual) / float(best)\n",
        "        scores.append(score)\n",
        "\n",
        "    return np.mean(scores)\n",
        "    \n",
        "# NDCG Scorer function\n",
        "ndcg_scorer = make_scorer(ndcg_score, needs_proba=True, k=5)\n"
      ],
      "execution_count": 0,
      "outputs": []
    },
    {
      "cell_type": "code",
      "metadata": {
        "id": "KwWaDcKjZV2Y",
        "colab_type": "code",
        "colab": {}
      },
      "source": [
        "corr = train_users.corr()\n",
        "\n",
        "# display the correlation matrix\n",
        "display(corr)\n",
        "sns.heatmap(corr, xticklabels=corr.columns, yticklabels=corr.columns, cmap='RdBu')\n"
      ],
      "execution_count": 0,
      "outputs": []
    },
    {
      "cell_type": "code",
      "metadata": {
        "id": "gjTjUdsBZf3i",
        "colab_type": "code",
        "colab": {
          "base_uri": "https://localhost:8080/",
          "height": 612
        },
        "outputId": "b94ac0bb-fb25-410b-97a4-18b9cd7fedec"
      },
      "source": [
        "data_after = train.drop(['created_year','created_month','created_day','signup_flow','timestamp_first_active'], axis = 1)\n",
        "test=test.drop(['created_year','created_month','created_day','signup_flow','timestamp_first_active'], axis = 1)\n",
        "X1 = sm.tools.add_constant(train)\n",
        "X2 = sm.tools.add_constant(data_after)\n",
        "\n",
        "# create the series for both\n",
        "series_before = pd.Series([variance_inflation_factor(X1.values, i) for i in range(X1.shape[1])], index=X1.columns)\n",
        "series_after = pd.Series([variance_inflation_factor(X2.values, i) for i in range(X2.shape[1])], index=X2.columns)\n",
        "\n",
        "print('DATA BEFORE')\n",
        "print('-'*100)\n",
        "display(series_before)\n",
        "\n",
        "print('DATA AFTER')\n",
        "print('-'*100)\n",
        "display(series_after)"
      ],
      "execution_count": 6,
      "outputs": [
        {
          "output_type": "stream",
          "text": [
            "DATA BEFORE\n",
            "----------------------------------------------------------------------------------------------------\n"
          ],
          "name": "stdout"
        },
        {
          "output_type": "display_data",
          "data": {
            "text/plain": [
              "const                          1.000000\n",
              "timestamp_first_active       736.143618\n",
              "gender                         1.085972\n",
              "age                            1.029490\n",
              "signup_flow                    1.336651\n",
              "language_n                     1.005602\n",
              "affiliate_channel_n            1.350732\n",
              "signup_method_n                1.062893\n",
              "affiliate_provider_n           1.216951\n",
              "first_device_type_n            1.271382\n",
              "first_browser_n                1.209313\n",
              "signup_app_n                   1.134438\n",
              "first_affiliate_tracked_n      1.121869\n",
              "session_count                  1.170596\n",
              "created_year                 758.507341\n",
              "created_month                  2.166332\n",
              "created_day                    1.002294\n",
              "dtype: float64"
            ]
          },
          "metadata": {
            "tags": []
          }
        },
        {
          "output_type": "stream",
          "text": [
            "DATA AFTER\n",
            "----------------------------------------------------------------------------------------------------\n"
          ],
          "name": "stdout"
        },
        {
          "output_type": "display_data",
          "data": {
            "text/plain": [
              "const                        1.000000\n",
              "gender                       1.045054\n",
              "age                          1.021907\n",
              "language_n                   1.004694\n",
              "affiliate_channel_n          1.276609\n",
              "signup_method_n              1.049929\n",
              "affiliate_provider_n         1.208525\n",
              "first_device_type_n          1.223502\n",
              "first_browser_n              1.142382\n",
              "signup_app_n                 1.126645\n",
              "first_affiliate_tracked_n    1.104259\n",
              "session_count                1.027589\n",
              "dtype: float64"
            ]
          },
          "metadata": {
            "tags": []
          }
        }
      ]
    },
    {
      "cell_type": "markdown",
      "metadata": {
        "id": "wsfY4KE5ZynL",
        "colab_type": "text"
      },
      "source": [
        "**Varying the quality of split**"
      ]
    },
    {
      "cell_type": "code",
      "metadata": {
        "id": "GlYi_z3V8XuO",
        "colab_type": "code",
        "outputId": "d9158f40-12e2-4531-b9e3-d1f333d19655",
        "colab": {
          "base_uri": "https://localhost:8080/",
          "height": 357
        }
      },
      "source": [
        "from sklearn.model_selection import KFold\n",
        "foldnum=0\n",
        "kf = KFold(n_splits=10)\n",
        "results = pd.DataFrame()\n",
        "KFold(n_splits=10, shuffle=True,random_state=20160217)\n",
        "for train, test in kf.split(train):\n",
        "    foldnum+=1\n",
        "    [tr_data, te_data, tr_labels, te_labels] = folds_to_split(data_after, labels, train, test)\n",
        "    for criterion in ['entropy', 'gini']:\n",
        "        dtree = tree.DecisionTreeClassifier(random_state=20160121, criterion=criterion)\n",
        "        dtree = dtree.fit(tr_data, tr_labels.values.ravel())\n",
        "        dtree_predict = dtree.predict_proba(te_data) \n",
        "        score = ndcg_score(te_labels.values, dtree_predict, k=5)\n",
        "        print ('Fold : {}, Criterion : {}, Score : {}'.format(foldnum, criterion, score ))\n",
        "        results.loc[foldnum, 'criterion=%s'%criterion ] = score"
      ],
      "execution_count": 7,
      "outputs": [
        {
          "output_type": "stream",
          "text": [
            "Fold : 1, Criterion : entropy, Score : 0.6951130835266826\n",
            "Fold : 1, Criterion : gini, Score : 0.6922458247147146\n",
            "Fold : 2, Criterion : entropy, Score : 0.7486480843029449\n",
            "Fold : 2, Criterion : gini, Score : 0.7483283132808549\n",
            "Fold : 3, Criterion : entropy, Score : 0.7735223232058048\n",
            "Fold : 3, Criterion : gini, Score : 0.7740194225028512\n",
            "Fold : 4, Criterion : entropy, Score : 0.7683235560131534\n",
            "Fold : 4, Criterion : gini, Score : 0.7679004713055644\n",
            "Fold : 5, Criterion : entropy, Score : 0.7876257508545644\n",
            "Fold : 5, Criterion : gini, Score : 0.78515829613003\n",
            "Fold : 6, Criterion : entropy, Score : 0.8085473347867708\n",
            "Fold : 6, Criterion : gini, Score : 0.8065522773193368\n",
            "Fold : 7, Criterion : entropy, Score : 0.7611633251403466\n",
            "Fold : 7, Criterion : gini, Score : 0.7587674399142861\n",
            "Fold : 8, Criterion : entropy, Score : 0.7251287497905253\n",
            "Fold : 8, Criterion : gini, Score : 0.7251091135585824\n",
            "Fold : 9, Criterion : entropy, Score : 0.713164341624742\n",
            "Fold : 9, Criterion : gini, Score : 0.71159659987274\n",
            "Fold : 10, Criterion : entropy, Score : 0.7107898094514451\n",
            "Fold : 10, Criterion : gini, Score : 0.710163142961813\n"
          ],
          "name": "stdout"
        }
      ]
    },
    {
      "cell_type": "code",
      "metadata": {
        "id": "4I_1Ixid8XyU",
        "colab_type": "code",
        "outputId": "26a2a06f-132f-4001-ae6b-7a2ba47c071d",
        "colab": {
          "base_uri": "https://localhost:8080/",
          "height": 68
        }
      },
      "source": [
        "results.mean()"
      ],
      "execution_count": 8,
      "outputs": [
        {
          "output_type": "execute_result",
          "data": {
            "text/plain": [
              "criterion=entropy    0.749203\n",
              "criterion=gini       0.747984\n",
              "dtype: float64"
            ]
          },
          "metadata": {
            "tags": []
          },
          "execution_count": 8
        }
      ]
    },
    {
      "cell_type": "markdown",
      "metadata": {
        "id": "uAKFGdQ3efw9",
        "colab_type": "text"
      },
      "source": [
        "Entropy performs slightly better thatn entropy."
      ]
    },
    {
      "cell_type": "markdown",
      "metadata": {
        "id": "QgABX6nfaLRn",
        "colab_type": "text"
      },
      "source": [
        "**Varying the max-depth**"
      ]
    },
    {
      "cell_type": "code",
      "metadata": {
        "id": "nwvbjMz_8X1p",
        "colab_type": "code",
        "outputId": "ae2fc444-1ba8-4d03-c413-3967e0371872",
        "colab": {
          "base_uri": "https://localhost:8080/",
          "height": 867
        }
      },
      "source": [
        "results = pd.DataFrame()\n",
        "foldnum=0\n",
        "for train, test in  kf.split(data_after):\n",
        "    foldnum+=1\n",
        "    [tr_data, te_data, tr_labels, te_labels] = folds_to_split(data_after, labels, train, test)\n",
        "\n",
        "    for max_depth in range(3, 8):\n",
        "        dtree = tree.DecisionTreeClassifier(random_state=20160121, criterion='entropy')\n",
        "        dtree = dtree.fit(tr_data, tr_labels.values.ravel())\n",
        "        dtree_predict = dtree.predict_proba(te_data) \n",
        "        score = ndcg_score(te_labels.values, dtree_predict, k=5)\n",
        "        print ('Fold : {}, Max-depth : {}, Score : {}'.format( foldnum, max_depth, score ))\n",
        "        results.loc[foldnum, 'max_depth=%d'%max_depth ] = score"
      ],
      "execution_count": 14,
      "outputs": [
        {
          "output_type": "stream",
          "text": [
            "Fold : 1, Max-depth : 3, Score : 0.6951130835266826\n",
            "Fold : 1, Max-depth : 4, Score : 0.6951130835266826\n",
            "Fold : 1, Max-depth : 5, Score : 0.6951130835266826\n",
            "Fold : 1, Max-depth : 6, Score : 0.6951130835266826\n",
            "Fold : 1, Max-depth : 7, Score : 0.6951130835266826\n",
            "Fold : 2, Max-depth : 3, Score : 0.7486480843029449\n",
            "Fold : 2, Max-depth : 4, Score : 0.7486480843029449\n",
            "Fold : 2, Max-depth : 5, Score : 0.7486480843029449\n",
            "Fold : 2, Max-depth : 6, Score : 0.7486480843029449\n",
            "Fold : 2, Max-depth : 7, Score : 0.7486480843029449\n",
            "Fold : 3, Max-depth : 3, Score : 0.7735223232058048\n",
            "Fold : 3, Max-depth : 4, Score : 0.7735223232058048\n",
            "Fold : 3, Max-depth : 5, Score : 0.7735223232058048\n",
            "Fold : 3, Max-depth : 6, Score : 0.7735223232058048\n",
            "Fold : 3, Max-depth : 7, Score : 0.7735223232058048\n",
            "Fold : 4, Max-depth : 3, Score : 0.7683235560131534\n",
            "Fold : 4, Max-depth : 4, Score : 0.7683235560131534\n",
            "Fold : 4, Max-depth : 5, Score : 0.7683235560131534\n",
            "Fold : 4, Max-depth : 6, Score : 0.7683235560131534\n",
            "Fold : 4, Max-depth : 7, Score : 0.7683235560131534\n",
            "Fold : 5, Max-depth : 3, Score : 0.7876257508545644\n",
            "Fold : 5, Max-depth : 4, Score : 0.7876257508545644\n",
            "Fold : 5, Max-depth : 5, Score : 0.7876257508545644\n",
            "Fold : 5, Max-depth : 6, Score : 0.7876257508545644\n",
            "Fold : 5, Max-depth : 7, Score : 0.7876257508545644\n",
            "Fold : 6, Max-depth : 3, Score : 0.8085473347867708\n",
            "Fold : 6, Max-depth : 4, Score : 0.8085473347867708\n",
            "Fold : 6, Max-depth : 5, Score : 0.8085473347867708\n",
            "Fold : 6, Max-depth : 6, Score : 0.8085473347867708\n",
            "Fold : 6, Max-depth : 7, Score : 0.8085473347867708\n",
            "Fold : 7, Max-depth : 3, Score : 0.7611633251403466\n",
            "Fold : 7, Max-depth : 4, Score : 0.7611633251403466\n",
            "Fold : 7, Max-depth : 5, Score : 0.7611633251403466\n",
            "Fold : 7, Max-depth : 6, Score : 0.7611633251403466\n",
            "Fold : 7, Max-depth : 7, Score : 0.7611633251403466\n",
            "Fold : 8, Max-depth : 3, Score : 0.7251287497905253\n",
            "Fold : 8, Max-depth : 4, Score : 0.7251287497905253\n",
            "Fold : 8, Max-depth : 5, Score : 0.7251287497905253\n",
            "Fold : 8, Max-depth : 6, Score : 0.7251287497905253\n",
            "Fold : 8, Max-depth : 7, Score : 0.7251287497905253\n",
            "Fold : 9, Max-depth : 3, Score : 0.713164341624742\n",
            "Fold : 9, Max-depth : 4, Score : 0.713164341624742\n",
            "Fold : 9, Max-depth : 5, Score : 0.713164341624742\n",
            "Fold : 9, Max-depth : 6, Score : 0.713164341624742\n",
            "Fold : 9, Max-depth : 7, Score : 0.713164341624742\n",
            "Fold : 10, Max-depth : 3, Score : 0.7107898094514451\n",
            "Fold : 10, Max-depth : 4, Score : 0.7107898094514451\n",
            "Fold : 10, Max-depth : 5, Score : 0.7107898094514451\n",
            "Fold : 10, Max-depth : 6, Score : 0.7107898094514451\n",
            "Fold : 10, Max-depth : 7, Score : 0.7107898094514451\n"
          ],
          "name": "stdout"
        }
      ]
    },
    {
      "cell_type": "code",
      "metadata": {
        "id": "Tnjyd66Jc5uE",
        "colab_type": "code",
        "colab": {
          "base_uri": "https://localhost:8080/",
          "height": 119
        },
        "outputId": "6c2b5f7d-48a0-4905-a466-a077b6d809ed"
      },
      "source": [
        "results.mean()"
      ],
      "execution_count": 15,
      "outputs": [
        {
          "output_type": "execute_result",
          "data": {
            "text/plain": [
              "max_depth=3    0.749203\n",
              "max_depth=4    0.749203\n",
              "max_depth=5    0.749203\n",
              "max_depth=6    0.749203\n",
              "max_depth=7    0.749203\n",
              "dtype: float64"
            ]
          },
          "metadata": {
            "tags": []
          },
          "execution_count": 15
        }
      ]
    },
    {
      "cell_type": "markdown",
      "metadata": {
        "id": "MnMP7Yj4fN9e",
        "colab_type": "text"
      },
      "source": [
        "It seems there is no change in NDCG as max_depth changes."
      ]
    },
    {
      "cell_type": "markdown",
      "metadata": {
        "id": "X4jGSpmjaSdr",
        "colab_type": "text"
      },
      "source": [
        "**Varying the min_samples_leaf**"
      ]
    },
    {
      "cell_type": "code",
      "metadata": {
        "id": "CsxzKVdR8X82",
        "colab_type": "code",
        "outputId": "10b42b9b-5894-4b20-ad8f-4d1a9e559e11",
        "colab": {
          "base_uri": "https://localhost:8080/",
          "height": 697
        }
      },
      "source": [
        "results = pd.DataFrame()\n",
        "foldnum=0\n",
        "for train, test in  kf.split(data_after):\n",
        "    foldnum+=1\n",
        "    [tr_data, te_data, tr_labels, te_labels] = folds_to_split(data_after, labels, train, test)\n",
        "\n",
        "    for min_sample_leafs in [5, 20, 50, 60]:\n",
        "        dtree = tree.DecisionTreeClassifier(criterion='entropy', min_samples_leaf=min_sample_leafs)\n",
        "        dtree = dtree.fit(tr_data, tr_labels.values.ravel())\n",
        "        dtree_predict = dtree.predict_proba(te_data) \n",
        "        score = ndcg_score(te_labels.values, dtree_predict, k=5)\n",
        "        print ('Fold : {}, Min_S_Leafs : {}, Score : {}'.format( foldnum, min_sample_leafs, score ))\n",
        "        results.loc[foldnum, 'min_s_leafs=%d'%min_sample_leafs ] = score"
      ],
      "execution_count": 18,
      "outputs": [
        {
          "output_type": "stream",
          "text": [
            "Fold : 1, Min_S_Leafs : 5, Score : 0.7335834636931342\n",
            "Fold : 1, Min_S_Leafs : 20, Score : 0.7514493697178757\n",
            "Fold : 1, Min_S_Leafs : 50, Score : 0.7548336500457802\n",
            "Fold : 1, Min_S_Leafs : 60, Score : 0.7559334864891465\n",
            "Fold : 2, Min_S_Leafs : 5, Score : 0.7740922895146499\n",
            "Fold : 2, Min_S_Leafs : 20, Score : 0.790664288498986\n",
            "Fold : 2, Min_S_Leafs : 50, Score : 0.7942110404433835\n",
            "Fold : 2, Min_S_Leafs : 60, Score : 0.7953507404140921\n",
            "Fold : 3, Min_S_Leafs : 5, Score : 0.7945996756764778\n",
            "Fold : 3, Min_S_Leafs : 20, Score : 0.8059276653439735\n",
            "Fold : 3, Min_S_Leafs : 50, Score : 0.8101236092760644\n",
            "Fold : 3, Min_S_Leafs : 60, Score : 0.8118842706193337\n",
            "Fold : 4, Min_S_Leafs : 5, Score : 0.7866876212365618\n",
            "Fold : 4, Min_S_Leafs : 20, Score : 0.7995326044225427\n",
            "Fold : 4, Min_S_Leafs : 50, Score : 0.8045092617283569\n",
            "Fold : 4, Min_S_Leafs : 60, Score : 0.8045869225059468\n",
            "Fold : 5, Min_S_Leafs : 5, Score : 0.8041143715680616\n",
            "Fold : 5, Min_S_Leafs : 20, Score : 0.8147956226785378\n",
            "Fold : 5, Min_S_Leafs : 50, Score : 0.8177159660322784\n",
            "Fold : 5, Min_S_Leafs : 60, Score : 0.8186231650574163\n",
            "Fold : 6, Min_S_Leafs : 5, Score : 0.8268881009410869\n",
            "Fold : 6, Min_S_Leafs : 20, Score : 0.8362110166363647\n",
            "Fold : 6, Min_S_Leafs : 50, Score : 0.8399054711501733\n",
            "Fold : 6, Min_S_Leafs : 60, Score : 0.8408608302454227\n",
            "Fold : 7, Min_S_Leafs : 5, Score : 0.809376317870771\n",
            "Fold : 7, Min_S_Leafs : 20, Score : 0.8385425737788925\n",
            "Fold : 7, Min_S_Leafs : 50, Score : 0.8433086276194398\n",
            "Fold : 7, Min_S_Leafs : 60, Score : 0.8442957581226752\n",
            "Fold : 8, Min_S_Leafs : 5, Score : 0.7891780940880924\n",
            "Fold : 8, Min_S_Leafs : 20, Score : 0.825054151342319\n",
            "Fold : 8, Min_S_Leafs : 50, Score : 0.8325468677450582\n",
            "Fold : 8, Min_S_Leafs : 60, Score : 0.8338785467579762\n",
            "Fold : 9, Min_S_Leafs : 5, Score : 0.7796885197003481\n",
            "Fold : 9, Min_S_Leafs : 20, Score : 0.8175876957003414\n",
            "Fold : 9, Min_S_Leafs : 50, Score : 0.8275910217920416\n",
            "Fold : 9, Min_S_Leafs : 60, Score : 0.8284994993820507\n",
            "Fold : 10, Min_S_Leafs : 5, Score : 0.7785037499261239\n",
            "Fold : 10, Min_S_Leafs : 20, Score : 0.8165541770746971\n",
            "Fold : 10, Min_S_Leafs : 50, Score : 0.8267211115927374\n",
            "Fold : 10, Min_S_Leafs : 60, Score : 0.8284451081269762\n"
          ],
          "name": "stdout"
        }
      ]
    },
    {
      "cell_type": "code",
      "metadata": {
        "id": "qfDe5Za3Pux9",
        "colab_type": "code",
        "outputId": "c008ffb8-4bd8-46b6-a02f-a74274aabd90",
        "colab": {
          "base_uri": "https://localhost:8080/",
          "height": 102
        }
      },
      "source": [
        "results.mean()"
      ],
      "execution_count": 19,
      "outputs": [
        {
          "output_type": "execute_result",
          "data": {
            "text/plain": [
              "min_s_leafs=5     0.787671\n",
              "min_s_leafs=20    0.809632\n",
              "min_s_leafs=50    0.815147\n",
              "min_s_leafs=60    0.816236\n",
              "dtype: float64"
            ]
          },
          "metadata": {
            "tags": []
          },
          "execution_count": 19
        }
      ]
    },
    {
      "cell_type": "markdown",
      "metadata": {
        "id": "frhcaEBBffRJ",
        "colab_type": "text"
      },
      "source": [
        "There is an increase in the NDCG score with the increase in the min_samples_leaf and it performs the best when min_samples_leaf is 60."
      ]
    },
    {
      "cell_type": "markdown",
      "metadata": {
        "id": "Lnics2uCaaTI",
        "colab_type": "text"
      },
      "source": [
        "**Varying max_leaf_nodes**"
      ]
    },
    {
      "cell_type": "code",
      "metadata": {
        "id": "2sTw3HCs8X6T",
        "colab_type": "code",
        "outputId": "22780849-46aa-4942-acce-93ccd55e076d",
        "colab": {
          "base_uri": "https://localhost:8080/",
          "height": 1000
        }
      },
      "source": [
        "results = pd.DataFrame()\n",
        "foldnum=0\n",
        "for train, test in  kf.split(data_after):\n",
        "    foldnum+=1\n",
        "    [tr_data, te_data, tr_labels, te_labels] = folds_to_split(data_after, labels, train, test)\n",
        "\n",
        "    for max_leaf_nodes in range(5, 12):\n",
        "        dtree = tree.DecisionTreeClassifier(criterion='entropy', max_leaf_nodes=max_leaf_nodes )\n",
        "        dtree = dtree.fit(tr_data, tr_labels.values.ravel())\n",
        "        dtree_predict = dtree.predict_proba(te_data) \n",
        "        score = ndcg_score(te_labels.values, dtree_predict, k=5)\n",
        "        print ('Fold : {}, max_leaf_nodes : {}, Score : {}'.format( foldnum, max_leaf_nodes, score ))\n",
        "        results.loc[foldnum, 'max_leaf_nodes=%d'%max_leaf_nodes ] = score"
      ],
      "execution_count": 21,
      "outputs": [
        {
          "output_type": "stream",
          "text": [
            "Fold : 1, max_leaf_nodes : 5, Score : 0.7643532868440961\n",
            "Fold : 1, max_leaf_nodes : 6, Score : 0.7641176883013222\n",
            "Fold : 1, max_leaf_nodes : 7, Score : 0.7641176883013222\n",
            "Fold : 1, max_leaf_nodes : 8, Score : 0.7641074232046206\n",
            "Fold : 1, max_leaf_nodes : 9, Score : 0.7634504069315818\n",
            "Fold : 1, max_leaf_nodes : 10, Score : 0.7634504069315818\n",
            "Fold : 1, max_leaf_nodes : 11, Score : 0.7634141610019243\n",
            "Fold : 2, max_leaf_nodes : 5, Score : 0.8019957646683447\n",
            "Fold : 2, max_leaf_nodes : 6, Score : 0.8019957646683447\n",
            "Fold : 2, max_leaf_nodes : 7, Score : 0.8019957646683447\n",
            "Fold : 2, max_leaf_nodes : 8, Score : 0.8019925169081231\n",
            "Fold : 2, max_leaf_nodes : 9, Score : 0.8019925169081231\n",
            "Fold : 2, max_leaf_nodes : 10, Score : 0.8019925169081231\n",
            "Fold : 2, max_leaf_nodes : 11, Score : 0.8019925169081231\n",
            "Fold : 3, max_leaf_nodes : 5, Score : 0.8166634612395147\n",
            "Fold : 3, max_leaf_nodes : 6, Score : 0.8166634612395147\n",
            "Fold : 3, max_leaf_nodes : 7, Score : 0.8166090897978795\n",
            "Fold : 3, max_leaf_nodes : 8, Score : 0.8166090897978795\n",
            "Fold : 3, max_leaf_nodes : 9, Score : 0.8166090897978795\n",
            "Fold : 3, max_leaf_nodes : 10, Score : 0.8166090897978794\n",
            "Fold : 3, max_leaf_nodes : 11, Score : 0.8166090897978794\n",
            "Fold : 4, max_leaf_nodes : 5, Score : 0.8096066619395728\n",
            "Fold : 4, max_leaf_nodes : 6, Score : 0.8096066619395728\n",
            "Fold : 4, max_leaf_nodes : 7, Score : 0.8096005025930035\n",
            "Fold : 4, max_leaf_nodes : 8, Score : 0.8096005025930035\n",
            "Fold : 4, max_leaf_nodes : 9, Score : 0.8096005025930035\n",
            "Fold : 4, max_leaf_nodes : 10, Score : 0.8096005025930035\n",
            "Fold : 4, max_leaf_nodes : 11, Score : 0.8096005025930035\n",
            "Fold : 5, max_leaf_nodes : 5, Score : 0.8224012697987546\n",
            "Fold : 5, max_leaf_nodes : 6, Score : 0.8224012697987546\n",
            "Fold : 5, max_leaf_nodes : 7, Score : 0.8223468983571194\n",
            "Fold : 5, max_leaf_nodes : 8, Score : 0.8223468983571194\n",
            "Fold : 5, max_leaf_nodes : 9, Score : 0.8223468983571194\n",
            "Fold : 5, max_leaf_nodes : 10, Score : 0.8223468983571194\n",
            "Fold : 5, max_leaf_nodes : 11, Score : 0.822343650596898\n",
            "Fold : 6, max_leaf_nodes : 5, Score : 0.8454592102801423\n",
            "Fold : 6, max_leaf_nodes : 6, Score : 0.8454592102801423\n",
            "Fold : 6, max_leaf_nodes : 7, Score : 0.8454592102801423\n",
            "Fold : 6, max_leaf_nodes : 8, Score : 0.8454592102801423\n",
            "Fold : 6, max_leaf_nodes : 9, Score : 0.8454592102801423\n",
            "Fold : 6, max_leaf_nodes : 10, Score : 0.8454592102801423\n",
            "Fold : 6, max_leaf_nodes : 11, Score : 0.8454229626523855\n",
            "Fold : 7, max_leaf_nodes : 5, Score : 0.8502276719716568\n",
            "Fold : 7, max_leaf_nodes : 6, Score : 0.8501370529022648\n",
            "Fold : 7, max_leaf_nodes : 7, Score : 0.8501370529022648\n",
            "Fold : 7, max_leaf_nodes : 8, Score : 0.8501370529022648\n",
            "Fold : 7, max_leaf_nodes : 9, Score : 0.8501370529022648\n",
            "Fold : 7, max_leaf_nodes : 10, Score : 0.8501370529022648\n",
            "Fold : 7, max_leaf_nodes : 11, Score : 0.850100805274508\n",
            "Fold : 8, max_leaf_nodes : 5, Score : 0.841837514173645\n",
            "Fold : 8, max_leaf_nodes : 6, Score : 0.841837514173645\n",
            "Fold : 8, max_leaf_nodes : 7, Score : 0.841837514173645\n",
            "Fold : 8, max_leaf_nodes : 8, Score : 0.841837514173645\n",
            "Fold : 8, max_leaf_nodes : 9, Score : 0.841837514173645\n",
            "Fold : 8, max_leaf_nodes : 10, Score : 0.841837514173645\n",
            "Fold : 8, max_leaf_nodes : 11, Score : 0.841837514173645\n",
            "Fold : 9, max_leaf_nodes : 5, Score : 0.8347076632670061\n",
            "Fold : 9, max_leaf_nodes : 6, Score : 0.8347076632670061\n",
            "Fold : 9, max_leaf_nodes : 7, Score : 0.8347015039204372\n",
            "Fold : 9, max_leaf_nodes : 8, Score : 0.8347015039204372\n",
            "Fold : 9, max_leaf_nodes : 9, Score : 0.8347015039204372\n",
            "Fold : 9, max_leaf_nodes : 10, Score : 0.8346982561602156\n",
            "Fold : 9, max_leaf_nodes : 11, Score : 0.8346982561602156\n",
            "Fold : 10, max_leaf_nodes : 5, Score : 0.8343545706110402\n",
            "Fold : 10, max_leaf_nodes : 6, Score : 0.8343545706110402\n",
            "Fold : 10, max_leaf_nodes : 7, Score : 0.8343545706110402\n",
            "Fold : 10, max_leaf_nodes : 8, Score : 0.8343545706110402\n",
            "Fold : 10, max_leaf_nodes : 9, Score : 0.8343545706110402\n",
            "Fold : 10, max_leaf_nodes : 10, Score : 0.8343480750905974\n",
            "Fold : 10, max_leaf_nodes : 11, Score : 0.8342212083934486\n"
          ],
          "name": "stdout"
        }
      ]
    },
    {
      "cell_type": "code",
      "metadata": {
        "id": "SdHdd6tZ8X4m",
        "colab_type": "code",
        "outputId": "5194c33c-ca0c-4e8e-e065-093115f60a16",
        "colab": {
          "base_uri": "https://localhost:8080/",
          "height": 153
        }
      },
      "source": [
        "results.mean()"
      ],
      "execution_count": 22,
      "outputs": [
        {
          "output_type": "execute_result",
          "data": {
            "text/plain": [
              "max_leaf_nodes=5     0.822161\n",
              "max_leaf_nodes=6     0.822128\n",
              "max_leaf_nodes=7     0.822116\n",
              "max_leaf_nodes=8     0.822115\n",
              "max_leaf_nodes=9     0.822049\n",
              "max_leaf_nodes=10    0.822048\n",
              "max_leaf_nodes=11    0.822024\n",
              "dtype: float64"
            ]
          },
          "metadata": {
            "tags": []
          },
          "execution_count": 22
        }
      ]
    },
    {
      "cell_type": "code",
      "metadata": {
        "id": "pdPZzqzYhqXw",
        "colab_type": "code",
        "colab": {
          "base_uri": "https://localhost:8080/",
          "height": 384
        },
        "outputId": "8e5d4bfa-9217-416d-9129-08bfc5343e61"
      },
      "source": [
        "plt.plot(results)\n",
        "plt.xlabel('Fold Number')\n",
        "plt.ylabel('nDCG')"
      ],
      "execution_count": 23,
      "outputs": [
        {
          "output_type": "execute_result",
          "data": {
            "text/plain": [
              "[<matplotlib.lines.Line2D at 0x7fbc4a5accf8>,\n",
              " <matplotlib.lines.Line2D at 0x7fbc4a5ace10>,\n",
              " <matplotlib.lines.Line2D at 0x7fbc4a5acf60>,\n",
              " <matplotlib.lines.Line2D at 0x7fbc4a5260f0>,\n",
              " <matplotlib.lines.Line2D at 0x7fbc4a526240>,\n",
              " <matplotlib.lines.Line2D at 0x7fbc4a526390>,\n",
              " <matplotlib.lines.Line2D at 0x7fbc4a5264e0>]"
            ]
          },
          "metadata": {
            "tags": []
          },
          "execution_count": 23
        },
        {
          "output_type": "display_data",
          "data": {
            "image/png": "[encoded data removed]",
            "text/plain": [
              "<Figure size 432x288 with 1 Axes>"
            ]
          },
          "metadata": {
            "tags": [],
            "needs_background": "light"
          }
        }
      ]
    },
    {
      "cell_type": "markdown",
      "metadata": {
        "id": "Kr7K_wHldmv9",
        "colab_type": "text"
      },
      "source": [
        "**Model with the Best Variables**"
      ]
    },
    {
      "cell_type": "code",
      "metadata": {
        "id": "_WY7PRgEXQS9",
        "colab_type": "code",
        "colab": {}
      },
      "source": [
        "dtree = tree.DecisionTreeClassifier(criterion='entropy', max_leaf_nodes=6,min_samples_leaf=60  )\n",
        "dtree = dtree.fit(data_after, labels.values.ravel())\n",
        "dtree_predict = dtree.predict_proba(test) \n",
        "\n",
        "test_users=test_users.drop('id',axis=1)\n",
        "\n",
        "# Predict the output of the tes_users\n",
        "# Each users has 5 prediction sorted by highest probability first\n",
        "id_idx=-1\n",
        "output_idx=0\n",
        "output = pd.DataFrame(columns=['id','country'])\n",
        "for prediction in dtree_predict:\n",
        "  prediction=prediction.argsort()[-5:][::-1]\n",
        "  id_idx+=1\n",
        "  countries=le_label.inverse_transform(prediction)\n",
        "  print(countries)\n",
        "  for x in countries:\n",
        "    print(test_id[id_idx],x)\n",
        "    output = output.append({'id' : test_id[id_idx] , 'country' : x } , ignore_index=True)\n",
        "\n",
        "# Save the oputput file\n",
        "output.to_csv('drive/My Drive/airbnb/output.csv',index=False)"
      ],
      "execution_count": 0,
      "outputs": []
    },
    {
      "cell_type": "markdown",
      "metadata": {
        "id": "oGFeNPw-x_wl",
        "colab_type": "text"
      },
      "source": [
        "**Model data using KNN **"
      ]
    },
    {
      "cell_type": "code",
      "metadata": {
        "id": "2xVnKJEHYY1I",
        "colab_type": "code",
        "colab": {
          "base_uri": "https://localhost:8080/",
          "height": 88
        },
        "outputId": "f0b65262-420e-4554-e859-85e30b218232"
      },
      "source": [
        "import scipy\n",
        "from sklearn.neighbors import KNeighborsClassifier\n",
        "from sklearn import neighbors\n",
        "from sklearn.model_selection import train_test_split\n",
        "from sklearn import metrics\n",
        "\n",
        "data_train, data_test = train_test_split(data_after, test_size=0.2)\n",
        "y_train, y_test=train_test_split(train_labels, test_size=0.2)\n",
        "\n",
        "clf=neighbors.KNeighborsClassifier(n_neighbors=9)\n",
        "clf.fit(data_train, y_train)\n",
        "y_pred = clf.predict(data_test)\n",
        "\n"
      ],
      "execution_count": 27,
      "outputs": [
        {
          "output_type": "stream",
          "text": [
            "/usr/local/lib/python3.6/dist-packages/ipykernel_launcher.py:11: DataConversionWarning: A column-vector y was passed when a 1d array was expected. Please change the shape of y to (n_samples, ), for example using ravel().\n",
            "  # This is added back by InteractiveShellApp.init_path()\n"
          ],
          "name": "stderr"
        },
        {
          "output_type": "stream",
          "text": [
            "0.0027406244875969174\n"
          ],
          "name": "stdout"
        }
      ]
    },
    {
      "cell_type": "code",
      "metadata": {
        "id": "QG6_5xzSXlCF",
        "colab_type": "code",
        "colab": {
          "base_uri": "https://localhost:8080/",
          "height": 598
        },
        "outputId": "9f939c72-88d8-483e-d5e2-808c9d512ef2"
      },
      "source": [
        "from sklearn.metrics import classification_report, confusion_matrix\n",
        "print(confusion_matrix(y_test, y_pred))\n",
        "print(classification_report(y_test, y_pred))\n",
        "\n"
      ],
      "execution_count": 33,
      "outputs": [
        {
          "output_type": "stream",
          "text": [
            "[[    0     0     0     0     0     0     0    99     0     0    18     0]\n",
            " [    0     0     0     0     1     0     0   249     0     0    26     0]\n",
            " [    0     0     0     0     0     0     0   179     0     0    25     0]\n",
            " [    0     0     0     0     0     0     0   398     0     0    58     0]\n",
            " [    0     0     0     1     2     1     0   844     0     0   128     0]\n",
            " [    0     0     0     0     0     0     0   415     0     0    67     0]\n",
            " [    0     0     0     0     0     0     0   504     0     0    62     1]\n",
            " [    0     0     0     2     5     2     2 22047     0     0  2902    13]\n",
            " [    0     0     0     0     0     0     0   132     0     0    20     0]\n",
            " [    0     0     0     0     0     0     0    32     0     0     6     0]\n",
            " [    0     0     0     0     4     1     2 10966     0     0  1478     4]\n",
            " [    0     0     0     0     2     0     1  1710     0     0   281     1]]\n",
            "              precision    recall  f1-score   support\n",
            "\n",
            "           0       0.00      0.00      0.00       117\n",
            "           1       0.00      0.00      0.00       276\n",
            "           2       0.00      0.00      0.00       204\n",
            "           3       0.00      0.00      0.00       456\n",
            "           4       0.14      0.00      0.00       976\n",
            "           5       0.00      0.00      0.00       482\n",
            "           6       0.00      0.00      0.00       567\n",
            "           7       0.59      0.88      0.70     24973\n",
            "           8       0.00      0.00      0.00       152\n",
            "           9       0.00      0.00      0.00        38\n",
            "          10       0.29      0.12      0.17     12455\n",
            "          11       0.05      0.00      0.00      1995\n",
            "\n",
            "    accuracy                           0.55     42691\n",
            "   macro avg       0.09      0.08      0.07     42691\n",
            "weighted avg       0.43      0.55      0.46     42691\n",
            "\n"
          ],
          "name": "stdout"
        },
        {
          "output_type": "stream",
          "text": [
            "/usr/local/lib/python3.6/dist-packages/sklearn/metrics/_classification.py:1272: UndefinedMetricWarning: Precision and F-score are ill-defined and being set to 0.0 in labels with no predicted samples. Use `zero_division` parameter to control this behavior.\n",
            "  _warn_prf(average, modifier, msg_start, len(result))\n"
          ],
          "name": "stderr"
        }
      ]
    },
    {
      "cell_type": "code",
      "metadata": {
        "id": "5570YKcMU4KP",
        "colab_type": "code",
        "colab": {
          "base_uri": "https://localhost:8080/",
          "height": 751
        },
        "outputId": "bbe35086-72c3-4949-ac9c-a7e4e3e34a25"
      },
      "source": [
        "\n",
        "acc = []\n",
        "\n",
        "# Calculating accuracy for K values between 1 and 10\n",
        "for i in range(1, 15):\n",
        "    knn = KNeighborsClassifier(n_neighbors=i)\n",
        "    knn.fit(data_train, y_train.values)\n",
        "    pred_i = knn.predict(data_test)\n",
        "    acc.append(np.mean(pred_i == y_test.values.ravel()))\n",
        "    print(i)"
      ],
      "execution_count": 37,
      "outputs": [
        {
          "output_type": "stream",
          "text": [
            "/usr/local/lib/python3.6/dist-packages/ipykernel_launcher.py:7: DataConversionWarning: A column-vector y was passed when a 1d array was expected. Please change the shape of y to (n_samples, ), for example using ravel().\n",
            "  import sys\n"
          ],
          "name": "stderr"
        },
        {
          "output_type": "stream",
          "text": [
            "1\n"
          ],
          "name": "stdout"
        },
        {
          "output_type": "stream",
          "text": [
            "/usr/local/lib/python3.6/dist-packages/ipykernel_launcher.py:7: DataConversionWarning: A column-vector y was passed when a 1d array was expected. Please change the shape of y to (n_samples, ), for example using ravel().\n",
            "  import sys\n"
          ],
          "name": "stderr"
        },
        {
          "output_type": "stream",
          "text": [
            "2\n"
          ],
          "name": "stdout"
        },
        {
          "output_type": "stream",
          "text": [
            "/usr/local/lib/python3.6/dist-packages/ipykernel_launcher.py:7: DataConversionWarning: A column-vector y was passed when a 1d array was expected. Please change the shape of y to (n_samples, ), for example using ravel().\n",
            "  import sys\n"
          ],
          "name": "stderr"
        },
        {
          "output_type": "stream",
          "text": [
            "3\n"
          ],
          "name": "stdout"
        },
        {
          "output_type": "stream",
          "text": [
            "/usr/local/lib/python3.6/dist-packages/ipykernel_launcher.py:7: DataConversionWarning: A column-vector y was passed when a 1d array was expected. Please change the shape of y to (n_samples, ), for example using ravel().\n",
            "  import sys\n"
          ],
          "name": "stderr"
        },
        {
          "output_type": "stream",
          "text": [
            "4\n"
          ],
          "name": "stdout"
        },
        {
          "output_type": "stream",
          "text": [
            "/usr/local/lib/python3.6/dist-packages/ipykernel_launcher.py:7: DataConversionWarning: A column-vector y was passed when a 1d array was expected. Please change the shape of y to (n_samples, ), for example using ravel().\n",
            "  import sys\n"
          ],
          "name": "stderr"
        },
        {
          "output_type": "stream",
          "text": [
            "5\n"
          ],
          "name": "stdout"
        },
        {
          "output_type": "stream",
          "text": [
            "/usr/local/lib/python3.6/dist-packages/ipykernel_launcher.py:7: DataConversionWarning: A column-vector y was passed when a 1d array was expected. Please change the shape of y to (n_samples, ), for example using ravel().\n",
            "  import sys\n"
          ],
          "name": "stderr"
        },
        {
          "output_type": "stream",
          "text": [
            "6\n"
          ],
          "name": "stdout"
        },
        {
          "output_type": "stream",
          "text": [
            "/usr/local/lib/python3.6/dist-packages/ipykernel_launcher.py:7: DataConversionWarning: A column-vector y was passed when a 1d array was expected. Please change the shape of y to (n_samples, ), for example using ravel().\n",
            "  import sys\n"
          ],
          "name": "stderr"
        },
        {
          "output_type": "stream",
          "text": [
            "7\n"
          ],
          "name": "stdout"
        },
        {
          "output_type": "stream",
          "text": [
            "/usr/local/lib/python3.6/dist-packages/ipykernel_launcher.py:7: DataConversionWarning: A column-vector y was passed when a 1d array was expected. Please change the shape of y to (n_samples, ), for example using ravel().\n",
            "  import sys\n"
          ],
          "name": "stderr"
        },
        {
          "output_type": "stream",
          "text": [
            "8\n"
          ],
          "name": "stdout"
        },
        {
          "output_type": "stream",
          "text": [
            "/usr/local/lib/python3.6/dist-packages/ipykernel_launcher.py:7: DataConversionWarning: A column-vector y was passed when a 1d array was expected. Please change the shape of y to (n_samples, ), for example using ravel().\n",
            "  import sys\n"
          ],
          "name": "stderr"
        },
        {
          "output_type": "stream",
          "text": [
            "9\n"
          ],
          "name": "stdout"
        },
        {
          "output_type": "stream",
          "text": [
            "/usr/local/lib/python3.6/dist-packages/ipykernel_launcher.py:7: DataConversionWarning: A column-vector y was passed when a 1d array was expected. Please change the shape of y to (n_samples, ), for example using ravel().\n",
            "  import sys\n"
          ],
          "name": "stderr"
        },
        {
          "output_type": "stream",
          "text": [
            "10\n"
          ],
          "name": "stdout"
        },
        {
          "output_type": "stream",
          "text": [
            "/usr/local/lib/python3.6/dist-packages/ipykernel_launcher.py:7: DataConversionWarning: A column-vector y was passed when a 1d array was expected. Please change the shape of y to (n_samples, ), for example using ravel().\n",
            "  import sys\n"
          ],
          "name": "stderr"
        },
        {
          "output_type": "stream",
          "text": [
            "11\n"
          ],
          "name": "stdout"
        },
        {
          "output_type": "stream",
          "text": [
            "/usr/local/lib/python3.6/dist-packages/ipykernel_launcher.py:7: DataConversionWarning: A column-vector y was passed when a 1d array was expected. Please change the shape of y to (n_samples, ), for example using ravel().\n",
            "  import sys\n"
          ],
          "name": "stderr"
        },
        {
          "output_type": "stream",
          "text": [
            "12\n"
          ],
          "name": "stdout"
        },
        {
          "output_type": "stream",
          "text": [
            "/usr/local/lib/python3.6/dist-packages/ipykernel_launcher.py:7: DataConversionWarning: A column-vector y was passed when a 1d array was expected. Please change the shape of y to (n_samples, ), for example using ravel().\n",
            "  import sys\n"
          ],
          "name": "stderr"
        },
        {
          "output_type": "stream",
          "text": [
            "13\n"
          ],
          "name": "stdout"
        },
        {
          "output_type": "stream",
          "text": [
            "/usr/local/lib/python3.6/dist-packages/ipykernel_launcher.py:7: DataConversionWarning: A column-vector y was passed when a 1d array was expected. Please change the shape of y to (n_samples, ), for example using ravel().\n",
            "  import sys\n"
          ],
          "name": "stderr"
        },
        {
          "output_type": "stream",
          "text": [
            "14\n"
          ],
          "name": "stdout"
        }
      ]
    },
    {
      "cell_type": "code",
      "metadata": {
        "id": "D1Ppy_rApyYN",
        "colab_type": "code",
        "colab": {
          "base_uri": "https://localhost:8080/",
          "height": 282
        },
        "outputId": "527f0e4f-d100-491d-88fd-0636c13b60a7"
      },
      "source": [
        "plt.plot(acc)"
      ],
      "execution_count": 38,
      "outputs": [
        {
          "output_type": "execute_result",
          "data": {
            "text/plain": [
              "[<matplotlib.lines.Line2D at 0x7fbc4a153630>]"
            ]
          },
          "metadata": {
            "tags": []
          },
          "execution_count": 38
        },
        {
          "output_type": "display_data",
          "data": {
            "image/png": "[encoded data removed]",
            "text/plain": [
              "<Figure size 432x288 with 1 Axes>"
            ]
          },
          "metadata": {
            "tags": [],
            "needs_background": "light"
          }
        }
      ]
    }
  ]
}